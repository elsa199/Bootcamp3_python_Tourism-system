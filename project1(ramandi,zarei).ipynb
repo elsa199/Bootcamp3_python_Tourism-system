{
 "cells": [
  {
   "cell_type": "code",
   "execution_count": 6,
   "id": "092af1b8",
   "metadata": {},
   "outputs": [],
   "source": [
    "from dataclasses import dataclass\n",
    "\n",
    "@dataclass\n",
    "class Persenal_information:\n",
    "  name:str  \n",
    "  family_name:str\n",
    "  national_code:int\n",
    "  phone_number : int\n",
    " \n",
    "\n",
    "  def Persenal_information(self):\n",
    "    return f\"{self.name}{self.family_name}\""
   ]
  },
  {
   "cell_type": "code",
   "execution_count": 15,
   "id": "9c200f06",
   "metadata": {},
   "outputs": [
    {
     "name": "stdout",
     "output_type": "stream",
     "text": [
      "plese enter your nameHayede\n",
      "plese enter your family nameZarei\n",
      "plese enter your national_code2420566866\n",
      "plese enter your phone_number09016133224\n"
     ]
    }
   ],
   "source": [
    "name=input(\"plese enter your name\")\n",
    "family_name=input(\"plese enter your family name\")\n",
    "national_code=int(input(\"plese enter your national_code\"))\n",
    "phone_number=int(input(\"plese enter your phone_number\"))"
   ]
  },
  {
   "cell_type": "code",
   "execution_count": 17,
   "id": "13244c78",
   "metadata": {},
   "outputs": [],
   "source": [
    "user1=Persenal_information('name','family_name',national_code,phone_number)"
   ]
  },
  {
   "cell_type": "code",
   "execution_count": 18,
   "id": "718f3201",
   "metadata": {},
   "outputs": [],
   "source": [
    "@dataclass\n",
    "class reservation:\n",
    "  residence_type:str  \n",
    "  residence_address:str\n",
    "  residence_capacity:int\n",
    "  daily_price : int\n",
    " \n",
    "\n",
    "  def reservation(self):\n",
    "    return f\"{self.residence_type}{self.residence_address}\""
   ]
  },
  {
   "cell_type": "code",
   "execution_count": 19,
   "id": "1cdf2c34",
   "metadata": {},
   "outputs": [
    {
     "name": "stdout",
     "output_type": "stream",
     "text": [
      "plese enter your residence_typea room\n",
      "plese enter your residence_addressShiraz\n",
      "plese enter your residence_capacity5\n",
      "plese enter your daily_price200\n"
     ]
    }
   ],
   "source": [
    "residence_type=input(\"plese enter your residence_type\")\n",
    "residence_address=input(\"plese enter your residence_address\")\n",
    "residence_capacity=int(input(\"plese enter your residence_capacity\"))\n",
    "daily_price=int(input(\"plese enter your daily_price\"))"
   ]
  },
  {
   "cell_type": "code",
   "execution_count": 20,
   "id": "66505199",
   "metadata": {},
   "outputs": [],
   "source": [
    "reserve1=reservation('residence_type','residence_address',residence_capacity,daily_price)"
   ]
  },
  {
   "cell_type": "code",
   "execution_count": null,
   "id": "2994eebd",
   "metadata": {},
   "outputs": [],
   "source": []
  },
  {
   "cell_type": "code",
   "execution_count": null,
   "id": "74fbbc73",
   "metadata": {},
   "outputs": [],
   "source": []
  },
  {
   "cell_type": "code",
   "execution_count": null,
   "id": "40fa46e0",
   "metadata": {},
   "outputs": [],
   "source": []
  }
 ],
 "metadata": {
  "kernelspec": {
   "display_name": "Python 3",
   "language": "python",
   "name": "python3"
  },
  "language_info": {
   "codemirror_mode": {
    "name": "ipython",
    "version": 3
   },
   "file_extension": ".py",
   "mimetype": "text/x-python",
   "name": "python",
   "nbconvert_exporter": "python",
   "pygments_lexer": "ipython3",
   "version": "3.8.8"
  }
 },
 "nbformat": 4,
 "nbformat_minor": 5
}
