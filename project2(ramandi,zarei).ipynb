{
 "cells": [
  {
   "cell_type": "code",
   "execution_count": 36,
   "id": "37bcec2f",
   "metadata": {},
   "outputs": [],
   "source": [
    "from datetime import datetime,timedelta,date\n",
    "from dataclasses import dataclass\n",
    "\n",
    "@dataclass\n",
    "class Personal_information:\n",
    "  name:str  \n",
    "  family_name:str\n",
    "  national_code:int\n",
    "  phone_number : int\n",
    " \n",
    "\n",
    "  def Personal_information(self):\n",
    "    return f\"{self.name}{self.family_name}\""
   ]
  },
  {
   "cell_type": "code",
   "execution_count": 37,
   "id": "8ae31c86",
   "metadata": {},
   "outputs": [],
   "source": [
    "@dataclass\n",
    "class reservation:\n",
    "  residence_type:str  \n",
    "  residence_address:str\n",
    "  residence_capacity:int\n",
    "  daily_price : int\n",
    " \n",
    "\n",
    "  def reservation(self):\n",
    "    return f\"{self.residence_type}{self.residence_address}\""
   ]
  },
  {
   "cell_type": "code",
   "execution_count": 38,
   "id": "1b066cfd",
   "metadata": {},
   "outputs": [
    {
     "name": "stdout",
     "output_type": "stream",
     "text": [
      "Do you want to register another residence?a\n",
      "Do you want to register another residence?a\n",
      "Do you want to register another residence?yes\n",
      "plese enter your namea\n",
      "plese enter your family namea\n",
      "plese enter your national_code12\n",
      "plese enter your phone_number12\n",
      "plese enter your residence_typea\n",
      "plese enter your residence_addressaaaa\n",
      "plese enter your residence_capacity12\n",
      "plese enter your daily_price111\n",
      "Do you want to register another residence?no\n",
      "tnx see u soon\n"
     ]
    }
   ],
   "source": [
    "sample_dict={}\n",
    "residance_class_a=[]\n",
    "residance_class_b=[]\n",
    "residance_class_c=[]\n",
    "residence_type = []\n",
    "residence_capacity = []\n",
    "residence_address = []\n",
    "daily_price = []\n",
    "hotel_ratings = []\n",
    "reserved_dates = {}\n",
    "\n",
    "while True:\n",
    "    first_question=input(\"Do you want to register another residence?\")\n",
    "    if first_question==\"yes\":\n",
    "        name=input(\"plese enter your name\")\n",
    "        family_name=input(\"plese enter your family name\")\n",
    "        national_code=int(input(\"plese enter your national_code\"))\n",
    "        phone_number=int(input(\"plese enter your phone_number\"))\n",
    "        user1=Personal_information('name','family_name',national_code,phone_number)\n",
    "        residence_type_=input(\"plese enter your residence_type\")\n",
    "        residence_type.append(residence_type_)   # baqiaram mesle hamin zir hamashun ezafe kon\n",
    "        residence_address_=input(\"plese enter your residence_address\")\n",
    "        residence_address.append(residence_address_)\n",
    "        residence_capacity_=int(input(\"plese enter your residence_capacity\"))\n",
    "        residence_capacity.append(residence_capacity_)\n",
    "        daily_price_=int(input(\"plese enter your daily_price\"))\n",
    "        daily_price.append(daily_price_)\n",
    "        reserve1=reservation('residence_type','residence_address','residence_capacity','daily_price')\n",
    "    elif first_question==\"no\":\n",
    "        print(\"tnx see u soon\")\n",
    "        break  \n",
    "        \n",
    "#print hotels with their spicifics\n",
    "        \n",
    "\n",
    "                \n",
    " \n",
    "        "
   ]
  },
  {
   "cell_type": "code",
   "execution_count": 39,
   "id": "0e925734",
   "metadata": {},
   "outputs": [],
   "source": [
    "def reservation(address,number_o_persons):\n",
    "    \n",
    "    index_ = residence_address.index(address)\n",
    "    print(\"index\" , index_)\n",
    "    reserved_dates_list = []\n",
    "    flag_res = 0\n",
    "    global daily_price\n",
    "    global residence_capacity\n",
    "    global reserved_list\n",
    "    price = 0\n",
    "    \n",
    "    first_day=int(input(\"please enter the number of the day that you want to come to hotel\"))\n",
    "    first_mounth=int(input(\"please enter the number of the mounth that you want to come to hotel\"))\n",
    "    first_year=int(input(\"please enter the year that you want to come to hotel\"))\n",
    "    day_first=date(first_year,first_mounth,first_day)\n",
    "    print(day_first)\n",
    "    last_day=int(input(\"please enter the number of the day that you want to leave the hotel\"))\n",
    "    last_mounth=int(input(\"please enter the number of the mounth that you want to leave the hotel\"))\n",
    "    last_year=int(input(\"please enter the year that you want to leave the hotel\"))\n",
    "    day_last=date(last_year,last_mounth,last_day)\n",
    "    print(day_last)\n",
    "    print(type(day_last))\n",
    "    delta=day_last-day_first\n",
    "    \n",
    "    for i in range(delta.days + 1):\n",
    "        day = day_first + timedelta(days=i)\n",
    "        reserved_dates_list.append(day)\n",
    "        \n",
    "        #reserved_dates[address].append(str(day))\n",
    "    reserved_dates[address]=[]\n",
    "    for x in reserved_dates_list:\n",
    "        if x in reserved_dates[address]:\n",
    "            flag_res = 1\n",
    "            print(\"pore\")\n",
    "            break\n",
    "\n",
    "        \n",
    "    \n",
    "    \n",
    "    if address not in residence_address:\n",
    "        print(\"wrong address\")\n",
    "    else:\n",
    "        if number_o_persons > residence_capacity[index_]:\n",
    "            print(\"its not a good residence for u ,its too small choose an other one\")\n",
    "        else:\n",
    "            if flag_res == 0:\n",
    "                # adade deltaro az stringsi ke delta hast bekesh birun int esh kon va zarbesh kon uno\n",
    "                print(\"delta : \", int(str(delta)[0]) , \"daily_price\", daily_price)\n",
    "                price = int(str(delta)[0]) * daily_price[index_] \n",
    "            \n",
    "    return price, reserved_dates,address\n"
   ]
  },
  {
   "cell_type": "code",
   "execution_count": 42,
   "id": "bc3cfea2",
   "metadata": {},
   "outputs": [
    {
     "name": "stdout",
     "output_type": "stream",
     "text": [
      "index 0\n",
      "please enter the number of the day that you want to come to hotel1\n",
      "please enter the number of the mounth that you want to come to hotel1\n",
      "please enter the year that you want to come to hotel2020\n",
      "2020-01-01\n",
      "please enter the number of the day that you want to leave the hotel4\n",
      "please enter the number of the mounth that you want to leave the hotel4\n",
      "please enter the year that you want to leave the hotel2020\n",
      "2020-04-04\n",
      "<class 'datetime.date'>\n",
      "delta :  9 daily_price [111]\n"
     ]
    },
    {
     "data": {
      "text/plain": [
       "(999, {'aaaa': []}, 'aaaa')"
      ]
     },
     "execution_count": 42,
     "metadata": {},
     "output_type": "execute_result"
    }
   ],
   "source": [
    "reservation(\"aaaa\",3)"
   ]
  },
  {
   "cell_type": "code",
   "execution_count": 43,
   "id": "61226a5f",
   "metadata": {},
   "outputs": [
    {
     "name": "stdout",
     "output_type": "stream",
     "text": [
      "Please, after using the residence, comment your idea about residencehghg\n",
      "please give your rating from 100 90\n",
      "[]\n",
      "[]\n",
      "['aaaa']\n"
     ]
    }
   ],
   "source": [
    "great_residence=[]\n",
    "notbad_residence=[]\n",
    "bad_residence=[]\n",
    "survey=input(\"Please, after using the residence, comment your idea about residence\")\n",
    "rating=int(input(\"please give your rating from 100 \"))\n",
    "\n",
    "if rating>=80:\n",
    "    \n",
    "    great_residence.append(residence_address_)\n",
    "elif 40<=rating<80:\n",
    "    \n",
    "    notbad_residence.append(residence_address_)\n",
    "else:\n",
    "    \n",
    "    bad_residence.append(residence_address_)\n",
    "            \n",
    "        \n",
    "print(great_residence)\n",
    "print(notbad_residence)\n",
    "print(bad_residence)"
   ]
  },
  {
   "cell_type": "code",
   "execution_count": null,
   "id": "41750bfd",
   "metadata": {},
   "outputs": [],
   "source": []
  }
 ],
 "metadata": {
  "kernelspec": {
   "display_name": "Python 3 (ipykernel)",
   "language": "python",
   "name": "python3"
  },
  "language_info": {
   "codemirror_mode": {
    "name": "ipython",
    "version": 3
   },
   "file_extension": ".py",
   "mimetype": "text/x-python",
   "name": "python",
   "nbconvert_exporter": "python",
   "pygments_lexer": "ipython3",
   "version": "3.10.0"
  }
 },
 "nbformat": 4,
 "nbformat_minor": 5
}
